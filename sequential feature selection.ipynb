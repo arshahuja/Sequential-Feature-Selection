{
 "cells": [
  {
   "cell_type": "code",
   "execution_count": 1,
   "metadata": {},
   "outputs": [],
   "source": [
    "import numpy as np\n",
    "import pandas as pd\n",
    "import matplotlib.pyplot as plt\n",
    "from mpl_toolkits.mplot3d import Axes3D\n",
    "import seaborn as sns\n",
    "%matplotlib inline"
   ]
  },
  {
   "cell_type": "code",
   "execution_count": 2,
   "metadata": {},
   "outputs": [],
   "source": [
    "df=pd.read_csv('imports-85.data')\n",
    "df=df.drop(['num-of-doors'],axis=1)\n",
    "df.replace({'?':np.nan},inplace=True)\n",
    "\n",
    "n=len(df)\n",
    "#print(df.info())"
   ]
  },
  {
   "cell_type": "code",
   "execution_count": 3,
   "metadata": {},
   "outputs": [],
   "source": [
    "#df['normalized-losses'].fillna(df['normalized-losses'].mean(),inplace=True)\n",
    "#df['price']=df['price'].astype(float)\n",
    "\n",
    "null_column=df.columns[df.isnull().any()]\n",
    "\n",
    "for i in range(len(null_column)):\n",
    "    df[null_column[i]]=df[null_column[i]].astype(float)\n",
    "    df[null_column[i]].fillna((df[null_column[i]].mean()),inplace=True)\n",
    "    \n",
    "#print(df.isnull().sum())"
   ]
  },
  {
   "cell_type": "code",
   "execution_count": 4,
   "metadata": {},
   "outputs": [
    {
     "name": "stdout",
     "output_type": "stream",
     "text": [
      "<class 'pandas.core.frame.DataFrame'>\n",
      "RangeIndex: 205 entries, 0 to 204\n",
      "Data columns (total 9 columns):\n",
      "make                205 non-null object\n",
      "fuel-type           205 non-null object\n",
      "aspiration          205 non-null object\n",
      "body-style          205 non-null object\n",
      "drive-wheels        205 non-null object\n",
      "engine-location     205 non-null object\n",
      "engine-type         205 non-null object\n",
      "num-of-cylinders    205 non-null object\n",
      "fuel-system         205 non-null object\n",
      "dtypes: object(9)\n",
      "memory usage: 14.5+ KB\n"
     ]
    }
   ],
   "source": [
    "# selecting categorical column from data set\n",
    "categorical=df.select_dtypes(exclude=[np.number])\n",
    "categorical.info()"
   ]
  },
  {
   "cell_type": "raw",
   "metadata": {},
   "source": [
    "cat_vars=['symboling','make','fuel-type','aspiration','body-style','drive-wheels','engine-location','engine-type','num-of-cylinders','fuel-system']\n",
    "for var in cat_vars:\n",
    "   cat_list='var'+'_'+var\n",
    "   cat_list = pd.get_dummies(df[var], prefix=var)\n",
    "   df1=df.join(cat_list)\n",
    "   df=df1\n",
    "cat_vars=['symboling','make','fuel-type','aspiration','body-style','drive-wheels','engine-location','engine-type','num-of-cylinders','fuel-system']\n",
    "data_vars=df.columns.values.tolist()\n",
    "to_keep=[i for i in data_vars if i not in cat_vars]"
   ]
  },
  {
   "cell_type": "code",
   "execution_count": 5,
   "metadata": {},
   "outputs": [],
   "source": [
    "#df.columns.values\n",
    "#df.info()"
   ]
  },
  {
   "cell_type": "markdown",
   "metadata": {},
   "source": [
    "# EDA"
   ]
  },
  {
   "cell_type": "code",
   "execution_count": 6,
   "metadata": {},
   "outputs": [
    {
     "data": {
      "text/plain": [
       "(5118.0, 45400.0)"
      ]
     },
     "execution_count": 6,
     "metadata": {},
     "output_type": "execute_result"
    }
   ],
   "source": [
    "df['price'].min(),df['price'].max()"
   ]
  },
  {
   "cell_type": "code",
   "execution_count": 7,
   "metadata": {},
   "outputs": [
    {
     "data": {
      "text/html": [
       "<div>\n",
       "<style scoped>\n",
       "    .dataframe tbody tr th:only-of-type {\n",
       "        vertical-align: middle;\n",
       "    }\n",
       "\n",
       "    .dataframe tbody tr th {\n",
       "        vertical-align: top;\n",
       "    }\n",
       "\n",
       "    .dataframe thead th {\n",
       "        text-align: right;\n",
       "    }\n",
       "</style>\n",
       "<table border=\"1\" class=\"dataframe\">\n",
       "  <thead>\n",
       "    <tr style=\"text-align: right;\">\n",
       "      <th></th>\n",
       "      <th>symboling</th>\n",
       "      <th>normalized-losses</th>\n",
       "      <th>make</th>\n",
       "      <th>fuel-type</th>\n",
       "      <th>aspiration</th>\n",
       "      <th>drive-wheels</th>\n",
       "      <th>engine-location</th>\n",
       "      <th>wheel-base</th>\n",
       "      <th>length</th>\n",
       "      <th>width</th>\n",
       "      <th>...</th>\n",
       "      <th>engine-size</th>\n",
       "      <th>fuel-system</th>\n",
       "      <th>bore</th>\n",
       "      <th>stroke</th>\n",
       "      <th>compression-ratio</th>\n",
       "      <th>horsepower</th>\n",
       "      <th>peak-rpm</th>\n",
       "      <th>city-mpg</th>\n",
       "      <th>highway-mpg</th>\n",
       "      <th>price</th>\n",
       "    </tr>\n",
       "    <tr>\n",
       "      <th>body-style</th>\n",
       "      <th></th>\n",
       "      <th></th>\n",
       "      <th></th>\n",
       "      <th></th>\n",
       "      <th></th>\n",
       "      <th></th>\n",
       "      <th></th>\n",
       "      <th></th>\n",
       "      <th></th>\n",
       "      <th></th>\n",
       "      <th></th>\n",
       "      <th></th>\n",
       "      <th></th>\n",
       "      <th></th>\n",
       "      <th></th>\n",
       "      <th></th>\n",
       "      <th></th>\n",
       "      <th></th>\n",
       "      <th></th>\n",
       "      <th></th>\n",
       "      <th></th>\n",
       "    </tr>\n",
       "  </thead>\n",
       "  <tbody>\n",
       "    <tr>\n",
       "      <th>convertible</th>\n",
       "      <td>2.926829</td>\n",
       "      <td>2.926829</td>\n",
       "      <td>2.926829</td>\n",
       "      <td>2.926829</td>\n",
       "      <td>2.926829</td>\n",
       "      <td>2.926829</td>\n",
       "      <td>2.926829</td>\n",
       "      <td>2.926829</td>\n",
       "      <td>2.926829</td>\n",
       "      <td>2.926829</td>\n",
       "      <td>...</td>\n",
       "      <td>2.926829</td>\n",
       "      <td>2.926829</td>\n",
       "      <td>2.926829</td>\n",
       "      <td>2.926829</td>\n",
       "      <td>2.926829</td>\n",
       "      <td>2.926829</td>\n",
       "      <td>2.926829</td>\n",
       "      <td>2.926829</td>\n",
       "      <td>2.926829</td>\n",
       "      <td>2.926829</td>\n",
       "    </tr>\n",
       "    <tr>\n",
       "      <th>hardtop</th>\n",
       "      <td>3.902439</td>\n",
       "      <td>3.902439</td>\n",
       "      <td>3.902439</td>\n",
       "      <td>3.902439</td>\n",
       "      <td>3.902439</td>\n",
       "      <td>3.902439</td>\n",
       "      <td>3.902439</td>\n",
       "      <td>3.902439</td>\n",
       "      <td>3.902439</td>\n",
       "      <td>3.902439</td>\n",
       "      <td>...</td>\n",
       "      <td>3.902439</td>\n",
       "      <td>3.902439</td>\n",
       "      <td>3.902439</td>\n",
       "      <td>3.902439</td>\n",
       "      <td>3.902439</td>\n",
       "      <td>3.902439</td>\n",
       "      <td>3.902439</td>\n",
       "      <td>3.902439</td>\n",
       "      <td>3.902439</td>\n",
       "      <td>3.902439</td>\n",
       "    </tr>\n",
       "    <tr>\n",
       "      <th>hatchback</th>\n",
       "      <td>34.146341</td>\n",
       "      <td>34.146341</td>\n",
       "      <td>34.146341</td>\n",
       "      <td>34.146341</td>\n",
       "      <td>34.146341</td>\n",
       "      <td>34.146341</td>\n",
       "      <td>34.146341</td>\n",
       "      <td>34.146341</td>\n",
       "      <td>34.146341</td>\n",
       "      <td>34.146341</td>\n",
       "      <td>...</td>\n",
       "      <td>34.146341</td>\n",
       "      <td>34.146341</td>\n",
       "      <td>34.146341</td>\n",
       "      <td>34.146341</td>\n",
       "      <td>34.146341</td>\n",
       "      <td>34.146341</td>\n",
       "      <td>34.146341</td>\n",
       "      <td>34.146341</td>\n",
       "      <td>34.146341</td>\n",
       "      <td>34.146341</td>\n",
       "    </tr>\n",
       "    <tr>\n",
       "      <th>sedan</th>\n",
       "      <td>46.829268</td>\n",
       "      <td>46.829268</td>\n",
       "      <td>46.829268</td>\n",
       "      <td>46.829268</td>\n",
       "      <td>46.829268</td>\n",
       "      <td>46.829268</td>\n",
       "      <td>46.829268</td>\n",
       "      <td>46.829268</td>\n",
       "      <td>46.829268</td>\n",
       "      <td>46.829268</td>\n",
       "      <td>...</td>\n",
       "      <td>46.829268</td>\n",
       "      <td>46.829268</td>\n",
       "      <td>46.829268</td>\n",
       "      <td>46.829268</td>\n",
       "      <td>46.829268</td>\n",
       "      <td>46.829268</td>\n",
       "      <td>46.829268</td>\n",
       "      <td>46.829268</td>\n",
       "      <td>46.829268</td>\n",
       "      <td>46.829268</td>\n",
       "    </tr>\n",
       "    <tr>\n",
       "      <th>wagon</th>\n",
       "      <td>12.195122</td>\n",
       "      <td>12.195122</td>\n",
       "      <td>12.195122</td>\n",
       "      <td>12.195122</td>\n",
       "      <td>12.195122</td>\n",
       "      <td>12.195122</td>\n",
       "      <td>12.195122</td>\n",
       "      <td>12.195122</td>\n",
       "      <td>12.195122</td>\n",
       "      <td>12.195122</td>\n",
       "      <td>...</td>\n",
       "      <td>12.195122</td>\n",
       "      <td>12.195122</td>\n",
       "      <td>12.195122</td>\n",
       "      <td>12.195122</td>\n",
       "      <td>12.195122</td>\n",
       "      <td>12.195122</td>\n",
       "      <td>12.195122</td>\n",
       "      <td>12.195122</td>\n",
       "      <td>12.195122</td>\n",
       "      <td>12.195122</td>\n",
       "    </tr>\n",
       "  </tbody>\n",
       "</table>\n",
       "<p>5 rows × 24 columns</p>\n",
       "</div>"
      ],
      "text/plain": [
       "             symboling  normalized-losses       make  fuel-type  aspiration  \\\n",
       "body-style                                                                    \n",
       "convertible   2.926829           2.926829   2.926829   2.926829    2.926829   \n",
       "hardtop       3.902439           3.902439   3.902439   3.902439    3.902439   \n",
       "hatchback    34.146341          34.146341  34.146341  34.146341   34.146341   \n",
       "sedan        46.829268          46.829268  46.829268  46.829268   46.829268   \n",
       "wagon        12.195122          12.195122  12.195122  12.195122   12.195122   \n",
       "\n",
       "             drive-wheels  engine-location  wheel-base     length      width  \\\n",
       "body-style                                                                     \n",
       "convertible      2.926829         2.926829    2.926829   2.926829   2.926829   \n",
       "hardtop          3.902439         3.902439    3.902439   3.902439   3.902439   \n",
       "hatchback       34.146341        34.146341   34.146341  34.146341  34.146341   \n",
       "sedan           46.829268        46.829268   46.829268  46.829268  46.829268   \n",
       "wagon           12.195122        12.195122   12.195122  12.195122  12.195122   \n",
       "\n",
       "               ...      engine-size  fuel-system       bore     stroke  \\\n",
       "body-style     ...                                                       \n",
       "convertible    ...         2.926829     2.926829   2.926829   2.926829   \n",
       "hardtop        ...         3.902439     3.902439   3.902439   3.902439   \n",
       "hatchback      ...        34.146341    34.146341  34.146341  34.146341   \n",
       "sedan          ...        46.829268    46.829268  46.829268  46.829268   \n",
       "wagon          ...        12.195122    12.195122  12.195122  12.195122   \n",
       "\n",
       "             compression-ratio  horsepower   peak-rpm   city-mpg  highway-mpg  \\\n",
       "body-style                                                                      \n",
       "convertible           2.926829    2.926829   2.926829   2.926829     2.926829   \n",
       "hardtop               3.902439    3.902439   3.902439   3.902439     3.902439   \n",
       "hatchback            34.146341   34.146341  34.146341  34.146341    34.146341   \n",
       "sedan                46.829268   46.829268  46.829268  46.829268    46.829268   \n",
       "wagon                12.195122   12.195122  12.195122  12.195122    12.195122   \n",
       "\n",
       "                 price  \n",
       "body-style              \n",
       "convertible   2.926829  \n",
       "hardtop       3.902439  \n",
       "hatchback    34.146341  \n",
       "sedan        46.829268  \n",
       "wagon        12.195122  \n",
       "\n",
       "[5 rows x 24 columns]"
      ]
     },
     "execution_count": 7,
     "metadata": {},
     "output_type": "execute_result"
    }
   ],
   "source": [
    "df.groupby('body-style').count()*100/n"
   ]
  },
  {
   "cell_type": "code",
   "execution_count": 8,
   "metadata": {},
   "outputs": [
    {
     "data": {
      "text/plain": [
       "<matplotlib.axes._subplots.AxesSubplot at 0x1cdea163f28>"
      ]
     },
     "execution_count": 8,
     "metadata": {},
     "output_type": "execute_result"
    },
    {
     "data": {
      "image/png": "[encoded data removed]",
      "text/plain": [
       "<Figure size 432x288 with 1 Axes>"
      ]
     },
     "metadata": {},
     "output_type": "display_data"
    }
   ],
   "source": [
    "sns.barplot(x='body-style',y='price',data=df)"
   ]
  },
  {
   "cell_type": "code",
   "execution_count": 9,
   "metadata": {},
   "outputs": [
    {
     "data": {
      "text/plain": [
       "<matplotlib.axes._subplots.AxesSubplot at 0x1cdea28d6d8>"
      ]
     },
     "execution_count": 9,
     "metadata": {},
     "output_type": "execute_result"
    },
    {
     "data": {
      "image/png": "[encoded data removed]",
      "text/plain": [
       "<Figure size 432x288 with 1 Axes>"
      ]
     },
     "metadata": {},
     "output_type": "display_data"
    }
   ],
   "source": [
    "sns.barplot(x='engine-type',y='price',data=df)"
   ]
  },
  {
   "cell_type": "code",
   "execution_count": 10,
   "metadata": {},
   "outputs": [
    {
     "data": {
      "text/plain": [
       "35056.0    1\n",
       "Name: price, dtype: int64"
      ]
     },
     "execution_count": 10,
     "metadata": {},
     "output_type": "execute_result"
    }
   ],
   "source": [
    "df[(df['engine-type']=='ohcv')&(df['body-style']=='convertible')]['price'].value_counts()"
   ]
  },
  {
   "cell_type": "code",
   "execution_count": 11,
   "metadata": {},
   "outputs": [
    {
     "data": {
      "text/plain": [
       "18399.0    1\n",
       "17199.0    1\n",
       "19699.0    1\n",
       "16500.0    1\n",
       "Name: price, dtype: int64"
      ]
     },
     "execution_count": 11,
     "metadata": {},
     "output_type": "execute_result"
    }
   ],
   "source": [
    "df[(df['engine-type']=='ohcv')&(df['body-style']=='hatchback')]['price'].value_counts()"
   ]
  },
  {
   "cell_type": "code",
   "execution_count": 12,
   "metadata": {},
   "outputs": [
    {
     "data": {
      "text/plain": [
       "<matplotlib.axes._subplots.AxesSubplot at 0x1cdea537a90>"
      ]
     },
     "execution_count": 12,
     "metadata": {},
     "output_type": "execute_result"
    },
    {
     "data": {
      "image/png": "[encoded data removed]",
      "text/plain": [
       "<Figure size 432x288 with 1 Axes>"
      ]
     },
     "metadata": {},
     "output_type": "display_data"
    }
   ],
   "source": [
    "sns.barplot(x='fuel-type',y='price',data=df)"
   ]
  },
  {
   "cell_type": "code",
   "execution_count": 13,
   "metadata": {},
   "outputs": [
    {
     "data": {
      "image/png": "[encoded data removed]",
      "text/plain": [
       "<Figure size 1080x360 with 1 Axes>"
      ]
     },
     "metadata": {},
     "output_type": "display_data"
    }
   ],
   "source": [
    "df.make.value_counts().plot(kind='bar', figsize=(15,5))\n",
    "plt.title(\"Number of vehicles by make\")\n",
    "plt.ylabel('Number of vehicles')\n",
    "plt.xlabel('Make');"
   ]
  },
  {
   "cell_type": "code",
   "execution_count": 14,
   "metadata": {},
   "outputs": [
    {
     "data": {
      "text/plain": [
       "<matplotlib.axes._subplots.AxesSubplot at 0x1cdea5ed160>"
      ]
     },
     "execution_count": 14,
     "metadata": {},
     "output_type": "execute_result"
    },
    {
     "data": {
      "image/png": "[encoded data removed]",
      "text/plain": [
       "<Figure size 1656x720 with 1 Axes>"
      ]
     },
     "metadata": {},
     "output_type": "display_data"
    }
   ],
   "source": [
    "plt.rcParams['figure.figsize']=(23,10)\n",
    "sns.boxplot(x=\"make\", y=\"price\", data=df)"
   ]
  },
  {
   "cell_type": "code",
   "execution_count": 15,
   "metadata": {},
   "outputs": [
    {
     "data": {
      "text/plain": [
       "<matplotlib.axes._subplots.AxesSubplot at 0x1cdeae68908>"
      ]
     },
     "execution_count": 15,
     "metadata": {},
     "output_type": "execute_result"
    },
    {
     "data": {
      "image/png": "[encoded data removed]",
      "text/plain": [
       "<Figure size 1656x720 with 1 Axes>"
      ]
     },
     "metadata": {},
     "output_type": "display_data"
    }
   ],
   "source": [
    "sns.boxplot(x=\"drive-wheels\", y=\"price\", data=df)"
   ]
  },
  {
   "cell_type": "code",
   "execution_count": 16,
   "metadata": {
    "scrolled": false
   },
   "outputs": [
    {
     "data": {
      "image/png": "[encoded data removed]",
      "text/plain": [
       "<Figure size 1656x720 with 1 Axes>"
      ]
     },
     "metadata": {},
     "output_type": "display_data"
    }
   ],
   "source": [
    "plt.scatter(df['city-mpg'],df['price'])\n",
    "plt.xlabel(\"mileage in CITY\")\n",
    "plt.ylabel(\"PRICE\")\n",
    "plt.grid()"
   ]
  },
  {
   "cell_type": "code",
   "execution_count": 17,
   "metadata": {},
   "outputs": [
    {
     "data": {
      "text/plain": [
       "<matplotlib.axes._subplots.AxesSubplot at 0x1cdead78128>"
      ]
     },
     "execution_count": 17,
     "metadata": {},
     "output_type": "execute_result"
    },
    {
     "data": {
      "image/png": "[encoded data removed]",
      "text/plain": [
       "<Figure size 1656x720 with 1 Axes>"
      ]
     },
     "metadata": {},
     "output_type": "display_data"
    }
   ],
   "source": [
    "sns.barplot(x='fuel-system',y='price',data=df)"
   ]
  },
  {
   "cell_type": "code",
   "execution_count": null,
   "metadata": {},
   "outputs": [],
   "source": []
  },
  {
   "cell_type": "code",
   "execution_count": null,
   "metadata": {},
   "outputs": [],
   "source": []
  },
  {
   "cell_type": "code",
   "execution_count": null,
   "metadata": {},
   "outputs": [],
   "source": []
  },
  {
   "cell_type": "code",
   "execution_count": null,
   "metadata": {},
   "outputs": [],
   "source": []
  },
  {
   "cell_type": "markdown",
   "metadata": {},
   "source": [
    "# One Hot Encoding"
   ]
  },
  {
   "cell_type": "code",
   "execution_count": 18,
   "metadata": {},
   "outputs": [],
   "source": [
    "cat_vars=['symboling','make','fuel-type','aspiration','body-style','drive-wheels','engine-location','engine-type','num-of-cylinders','fuel-system']\n",
    "for var in cat_vars:\n",
    "   cat_list='var'+'_'+var\n",
    "   cat_list = pd.get_dummies(df[var], prefix=var)\n",
    "   df1=df.join(cat_list)\n",
    "   df=df1\n",
    "cat_vars=['symboling','make','fuel-type','aspiration','body-style','drive-wheels','engine-location','engine-type','num-of-cylinders','fuel-system']\n",
    "data_vars=df.columns.values.tolist()\n",
    "to_keep=[i for i in data_vars if i not in cat_vars]"
   ]
  },
  {
   "cell_type": "code",
   "execution_count": 19,
   "metadata": {},
   "outputs": [
    {
     "name": "stdout",
     "output_type": "stream",
     "text": [
      "(205,)\n",
      "(205, 78)\n"
     ]
    }
   ],
   "source": [
    "final_df=df.drop(['symboling','make','fuel-type','aspiration','body-style','drive-wheels','engine-location','engine-type','num-of-cylinders','fuel-system'],axis=1)\n",
    "Y=final_df['price']\n",
    "Y=np.array(Y)\n",
    "X=final_df.drop(['price'],axis=1)\n",
    "X=np.array(X)\n",
    "print(Y.shape)\n",
    "print(X.shape)"
   ]
  },
  {
   "cell_type": "code",
   "execution_count": 20,
   "metadata": {},
   "outputs": [
    {
     "data": {
      "text/plain": [
       "44"
      ]
     },
     "execution_count": 20,
     "metadata": {},
     "output_type": "execute_result"
    }
   ],
   "source": [
    "from sklearn.datasets import make_regression\n",
    "from sklearn.feature_selection import RFECV\n",
    "from sklearn import datasets, linear_model\n",
    "\n",
    "ols = linear_model.LinearRegression()\n",
    "# Create recursive feature eliminator that scores features by mean squared errors\n",
    "rfecv = RFECV(estimator=ols, step=1, scoring='neg_mean_squared_error')\n",
    "\n",
    "# Fit recursive feature eliminator \n",
    "rfecv=rfecv.fit(X, Y)\n",
    "\n",
    "# Recursive feature elimination\n",
    "rfecv.transform(X)\n",
    "\n",
    "# Number of best features\n",
    "rfecv.n_features_"
   ]
  },
  {
   "cell_type": "code",
   "execution_count": 21,
   "metadata": {},
   "outputs": [
    {
     "name": "stdout",
     "output_type": "stream",
     "text": [
      "[False False False  True False False False  True False  True False False\n",
      " False False False False  True False False False False False  True  True\n",
      "  True False  True  True  True  True  True  True  True False  True  True\n",
      "  True  True  True  True  True False  True  True False False  True False\n",
      " False False False False False  True  True  True  True  True False  True\n",
      "  True  True  True  True  True  True  True  True  True  True  True False\n",
      "  True  True False False False  True]\n"
     ]
    }
   ],
   "source": [
    "support=rfecv.support_\n",
    "print(support)"
   ]
  },
  {
   "cell_type": "code",
   "execution_count": 22,
   "metadata": {
    "scrolled": true
   },
   "outputs": [
    {
     "data": {
      "text/plain": [
       "Index(['normalized-losses', 'wheel-base', 'length', 'width', 'height',\n",
       "       'curb-weight', 'engine-size', 'bore', 'stroke', 'compression-ratio',\n",
       "       'horsepower', 'peak-rpm', 'city-mpg', 'highway-mpg', 'price',\n",
       "       'symboling_-2', 'symboling_-1', 'symboling_0', 'symboling_1',\n",
       "       'symboling_2', 'symboling_3', 'make_alfa-romero', 'make_audi',\n",
       "       'make_bmw', 'make_chevrolet', 'make_dodge', 'make_honda', 'make_isuzu',\n",
       "       'make_jaguar', 'make_mazda', 'make_mercedes-benz', 'make_mercury',\n",
       "       'make_mitsubishi', 'make_nissan', 'make_peugot', 'make_plymouth',\n",
       "       'make_porsche', 'make_renault', 'make_saab', 'make_subaru',\n",
       "       'make_toyota', 'make_volkswagen', 'make_volvo', 'fuel-type_diesel',\n",
       "       'fuel-type_gas', 'aspiration_std', 'aspiration_turbo',\n",
       "       'body-style_convertible', 'body-style_hardtop', 'body-style_hatchback',\n",
       "       'body-style_sedan', 'body-style_wagon', 'drive-wheels_4wd',\n",
       "       'drive-wheels_fwd', 'drive-wheels_rwd', 'engine-location_front',\n",
       "       'engine-location_rear', 'engine-type_dohc', 'engine-type_dohcv',\n",
       "       'engine-type_l', 'engine-type_ohc', 'engine-type_ohcf',\n",
       "       'engine-type_ohcv', 'engine-type_rotor', 'num-of-cylinders_eight',\n",
       "       'num-of-cylinders_five', 'num-of-cylinders_four',\n",
       "       'num-of-cylinders_six', 'num-of-cylinders_three',\n",
       "       'num-of-cylinders_twelve', 'num-of-cylinders_two', 'fuel-system_1bbl',\n",
       "       'fuel-system_2bbl', 'fuel-system_4bbl', 'fuel-system_idi',\n",
       "       'fuel-system_mfi', 'fuel-system_mpfi', 'fuel-system_spdi',\n",
       "       'fuel-system_spfi'],\n",
       "      dtype='object')"
      ]
     },
     "execution_count": 22,
     "metadata": {},
     "output_type": "execute_result"
    }
   ],
   "source": [
    "final_df.columns"
   ]
  },
  {
   "cell_type": "code",
   "execution_count": 23,
   "metadata": {},
   "outputs": [
    {
     "data": {
      "text/plain": [
       "['normalized-losses',\n",
       " 'wheel-base',\n",
       " 'length',\n",
       " 'width',\n",
       " 'height',\n",
       " 'curb-weight',\n",
       " 'engine-size',\n",
       " 'bore',\n",
       " 'stroke',\n",
       " 'compression-ratio',\n",
       " 'horsepower',\n",
       " 'peak-rpm',\n",
       " 'city-mpg',\n",
       " 'highway-mpg',\n",
       " 'symboling_-2',\n",
       " 'symboling_-1',\n",
       " 'symboling_0',\n",
       " 'symboling_1',\n",
       " 'symboling_2',\n",
       " 'symboling_3',\n",
       " 'make_alfa-romero',\n",
       " 'make_audi',\n",
       " 'make_bmw',\n",
       " 'make_chevrolet',\n",
       " 'make_dodge',\n",
       " 'make_honda',\n",
       " 'make_isuzu',\n",
       " 'make_jaguar',\n",
       " 'make_mazda',\n",
       " 'make_mercedes-benz',\n",
       " 'make_mercury',\n",
       " 'make_mitsubishi',\n",
       " 'make_nissan',\n",
       " 'make_peugot',\n",
       " 'make_plymouth',\n",
       " 'make_porsche',\n",
       " 'make_renault',\n",
       " 'make_saab',\n",
       " 'make_subaru',\n",
       " 'make_toyota',\n",
       " 'make_volkswagen',\n",
       " 'make_volvo',\n",
       " 'fuel-type_diesel',\n",
       " 'fuel-type_gas',\n",
       " 'aspiration_std',\n",
       " 'aspiration_turbo',\n",
       " 'body-style_convertible',\n",
       " 'body-style_hardtop',\n",
       " 'body-style_hatchback',\n",
       " 'body-style_sedan',\n",
       " 'body-style_wagon',\n",
       " 'drive-wheels_4wd',\n",
       " 'drive-wheels_fwd',\n",
       " 'drive-wheels_rwd',\n",
       " 'engine-location_front',\n",
       " 'engine-location_rear',\n",
       " 'engine-type_dohc',\n",
       " 'engine-type_dohcv',\n",
       " 'engine-type_l',\n",
       " 'engine-type_ohc',\n",
       " 'engine-type_ohcf',\n",
       " 'engine-type_ohcv',\n",
       " 'engine-type_rotor',\n",
       " 'num-of-cylinders_eight',\n",
       " 'num-of-cylinders_five',\n",
       " 'num-of-cylinders_four',\n",
       " 'num-of-cylinders_six',\n",
       " 'num-of-cylinders_three',\n",
       " 'num-of-cylinders_twelve',\n",
       " 'num-of-cylinders_two',\n",
       " 'fuel-system_1bbl',\n",
       " 'fuel-system_2bbl',\n",
       " 'fuel-system_4bbl',\n",
       " 'fuel-system_idi',\n",
       " 'fuel-system_mfi',\n",
       " 'fuel-system_mpfi',\n",
       " 'fuel-system_spdi',\n",
       " 'fuel-system_spfi']"
      ]
     },
     "execution_count": 23,
     "metadata": {},
     "output_type": "execute_result"
    }
   ],
   "source": [
    "support_col=final_df.columns\n",
    "support_col=[i for i in support_col if i not in 'price']\n",
    "#support_col"
   ]
  },
  {
   "cell_type": "markdown",
   "metadata": {},
   "source": [
    "# selected feature list"
   ]
  },
  {
   "cell_type": "code",
   "execution_count": 24,
   "metadata": {
    "scrolled": true
   },
   "outputs": [
    {
     "name": "stdout",
     "output_type": "stream",
     "text": [
      "3 width\n",
      "7 bore\n",
      "9 compression-ratio\n",
      "16 symboling_0\n",
      "22 make_bmw\n",
      "23 make_chevrolet\n",
      "24 make_dodge\n",
      "26 make_isuzu\n",
      "27 make_jaguar\n",
      "28 make_mazda\n",
      "29 make_mercedes-benz\n",
      "30 make_mercury\n",
      "31 make_mitsubishi\n",
      "32 make_nissan\n",
      "34 make_plymouth\n",
      "35 make_porsche\n",
      "36 make_renault\n",
      "37 make_saab\n",
      "38 make_subaru\n",
      "39 make_toyota\n",
      "40 make_volkswagen\n",
      "42 fuel-type_diesel\n",
      "43 fuel-type_gas\n",
      "46 body-style_convertible\n",
      "53 drive-wheels_rwd\n",
      "54 engine-location_front\n",
      "55 engine-location_rear\n",
      "56 engine-type_dohc\n",
      "57 engine-type_dohcv\n",
      "59 engine-type_ohc\n",
      "60 engine-type_ohcf\n",
      "61 engine-type_ohcv\n",
      "62 engine-type_rotor\n",
      "63 num-of-cylinders_eight\n",
      "64 num-of-cylinders_five\n",
      "65 num-of-cylinders_four\n",
      "66 num-of-cylinders_six\n",
      "67 num-of-cylinders_three\n",
      "68 num-of-cylinders_twelve\n",
      "69 num-of-cylinders_two\n",
      "70 fuel-system_1bbl\n",
      "72 fuel-system_4bbl\n",
      "73 fuel-system_idi\n",
      "77 fuel-system_spfi\n"
     ]
    }
   ],
   "source": [
    "for i in range(len(support)):\n",
    "    if support[i]==True:\n",
    "        print(i,support_col[i])"
   ]
  }
 ],
 "metadata": {
  "kernelspec": {
   "display_name": "Python 3",
   "language": "python",
   "name": "python3"
  },
  "language_info": {
   "codemirror_mode": {
    "name": "ipython",
    "version": 3
   },
   "file_extension": ".py",
   "mimetype": "text/x-python",
   "name": "python",
   "nbconvert_exporter": "python",
   "pygments_lexer": "ipython3",
   "version": "3.6.5"
  }
 },
 "nbformat": 4,
 "nbformat_minor": 2
}
